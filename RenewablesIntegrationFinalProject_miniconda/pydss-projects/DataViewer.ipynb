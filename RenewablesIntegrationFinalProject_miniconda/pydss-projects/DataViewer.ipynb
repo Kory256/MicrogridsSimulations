{
 "cells": [
  {
   "cell_type": "code",
   "execution_count": 6,
   "id": "2462c993-1d8d-4f36-a0f3-f1b07358c19c",
   "metadata": {},
   "outputs": [
    {
     "data": {
      "text/html": [
       "<style>.container { width:100% !important; }</style>"
      ],
      "text/plain": [
       "<IPython.core.display.HTML object>"
      ]
     },
     "metadata": {},
     "output_type": "display_data"
    }
   ],
   "source": [
    "from pydss.apps.data_viewer import DataViewer\n",
    "from IPython.display import display, HTML, clear_output\n",
    "display(HTML(\"<style>.container { width:100% !important; }</style>\"))"
   ]
  },
  {
   "cell_type": "code",
   "execution_count": 7,
   "id": "711683f8-e73d-41a7-9f1e-445841070a52",
   "metadata": {},
   "outputs": [
    {
     "data": {
      "application/vnd.jupyter.widget-view+json": {
       "model_id": "4e2e256471c74e79a9858ed53866d886",
       "version_major": 2,
       "version_minor": 0
      },
      "text/plain": [
       "VBox(children=(HTML(value='<b>Pydss Data Viewer</b>'), HBox(children=(Button(description='Load project', layou…"
      ]
     },
     "metadata": {},
     "output_type": "display_data"
    },
    {
     "name": "stderr",
     "output_type": "stream",
     "text": [
      "\u001b[32m2025-04-09 09:50:56.571\u001b[0m | \u001b[34m\u001b[1mDEBUG   \u001b[0m | \u001b[36mpydss.utils.utils\u001b[0m:\u001b[36mload_data\u001b[0m:\u001b[36m86\u001b[0m - \u001b[34m\u001b[1mLoaded data from my-project/simulation-run.toml\u001b[0m\n",
      "\u001b[32m2025-04-09 09:50:56.573\u001b[0m | \u001b[34m\u001b[1mDEBUG   \u001b[0m | \u001b[36mpydss.utils.utils\u001b[0m:\u001b[36mload_data\u001b[0m:\u001b[36m86\u001b[0m - \u001b[34m\u001b[1mLoaded data from my-project/Scenarios/scenario1/ExportLists/Exports.toml\u001b[0m\n",
      "\u001b[32m2025-04-09 09:50:56.574\u001b[0m | \u001b[34m\u001b[1mDEBUG   \u001b[0m | \u001b[36mpydss.utils.utils\u001b[0m:\u001b[36mload_data\u001b[0m:\u001b[36m86\u001b[0m - \u001b[34m\u001b[1mLoaded data from my-project/Scenarios/scenario1/ExportLists/Subscriptions.toml\u001b[0m\n",
      "\u001b[32m2025-04-09 09:50:56.575\u001b[0m | \u001b[34m\u001b[1mDEBUG   \u001b[0m | \u001b[36mpydss.utils.utils\u001b[0m:\u001b[36mload_data\u001b[0m:\u001b[36m86\u001b[0m - \u001b[34m\u001b[1mLoaded data from my-project/Scenarios/scenario2/ExportLists/Exports.toml\u001b[0m\n",
      "\u001b[32m2025-04-09 09:50:56.575\u001b[0m | \u001b[34m\u001b[1mDEBUG   \u001b[0m | \u001b[36mpydss.utils.utils\u001b[0m:\u001b[36mload_data\u001b[0m:\u001b[36m86\u001b[0m - \u001b[34m\u001b[1mLoaded data from my-project/Scenarios/scenario2/ExportLists/Subscriptions.toml\u001b[0m\n",
      "\u001b[32m2025-04-09 09:50:56.576\u001b[0m | \u001b[34m\u001b[1mDEBUG   \u001b[0m | \u001b[36mpydss.utils.utils\u001b[0m:\u001b[36mload_data\u001b[0m:\u001b[36m86\u001b[0m - \u001b[34m\u001b[1mLoaded data from my-project/Exports/scenario1/metadata.json\u001b[0m\n",
      "\u001b[32m2025-04-09 09:50:56.582\u001b[0m | \u001b[34m\u001b[1mDEBUG   \u001b[0m | \u001b[36mpydss.utils.utils\u001b[0m:\u001b[36mload_data\u001b[0m:\u001b[36m86\u001b[0m - \u001b[34m\u001b[1mLoaded data from my-project/Exports/scenario2/metadata.json\u001b[0m\n"
     ]
    },
    {
     "name": "stdout",
     "output_type": "stream",
     "text": [
      "{<ExportMode.EXPORTS: 'Exports'>: {'Generators': [{'property': 'Powers', 'sample_interval': 1, 'publish': True, 'store_values_type': 'all'}], 'Loads': [{'property': 'Powers', 'sample_interval': 1, 'publish': True, 'store_values_type': 'all'}], 'PVSystems': [{'property': 'Powers', 'sample_interval': 1, 'publish': True, 'store_values_type': 'all'}], 'Storages': [{'property': 'Powers', 'sample_interval': 1, 'publish': True, 'store_values_type': 'all'}], 'Buses': [{'property': 'puVmagAngle', 'sample_interval': 1, 'publish': True, 'store_values_type': 'all'}], 'Circuits': [{'property': 'TotalPower', 'sample_interval': 1, 'publish': True, 'store_values_type': 'all'}], 'Lines': [{'property': 'CurrentsMagAng', 'sample_interval': 1, 'publish': True, 'store_values_type': 'all'}]}, <ExportMode.SUBSCRIPTIONS: 'Subscriptions'>: {'subscriptions': [{'model': 'Load.mpx000635970', 'property': 'kw', 'id': 'test.load1.power', 'unit': 'kW', 'subscribe': True, 'data_type': 'double', 'multiplier': 1}, {'model': 'Vsource.source', 'property': 'pu', 'id': 'test.feederhead.voltage', 'unit': '', 'subscribe': True, 'data_type': 'double', 'multiplier': 1}, {'model': 'Vsource.source', 'property': 'angle', 'id': 'test.feederhead.angle', 'unit': '', 'subscribe': True, 'data_type': 'double', 'multiplier': 1}]}}\n",
      "{<ExportMode.EXPORTS: 'Exports'>: {'Generators': [{'property': 'Powers', 'sample_interval': 1, 'publish': True, 'store_values_type': 'all'}], 'Loads': [{'property': 'Powers', 'sample_interval': 1, 'publish': True, 'store_values_type': 'all'}], 'PVSystems': [{'property': 'Powers', 'sample_interval': 1, 'publish': True, 'store_values_type': 'all'}], 'Storages': [{'property': 'Powers', 'sample_interval': 1, 'publish': True, 'store_values_type': 'all'}], 'Buses': [{'property': 'puVmagAngle', 'sample_interval': 1, 'publish': True, 'store_values_type': 'all'}], 'Circuits': [{'property': 'TotalPower', 'sample_interval': 1, 'publish': True, 'store_values_type': 'all'}], 'Lines': [{'property': 'CurrentsMagAng', 'sample_interval': 1, 'publish': True, 'store_values_type': 'all'}]}, <ExportMode.SUBSCRIPTIONS: 'Subscriptions'>: {'subscriptions': [{'model': 'Load.mpx000635970', 'property': 'kw', 'id': 'test.load1.power', 'unit': 'kW', 'subscribe': True, 'data_type': 'double', 'multiplier': 1}, {'model': 'Vsource.source', 'property': 'pu', 'id': 'test.feederhead.voltage', 'unit': '', 'subscribe': True, 'data_type': 'double', 'multiplier': 1}, {'model': 'Vsource.source', 'property': 'angle', 'id': 'test.feederhead.angle', 'unit': '', 'subscribe': True, 'data_type': 'double', 'multiplier': 1}]}}\n"
     ]
    },
    {
     "data": {
      "application/vnd.jupyter.widget-view+json": {
       "model_id": "11ef1b06f8fb4618af018299c756035b",
       "version_major": 2,
       "version_minor": 0
      },
      "text/plain": [
       "Output()"
      ]
     },
     "metadata": {},
     "output_type": "display_data"
    },
    {
     "data": {
      "application/vnd.jupyter.widget-view+json": {
       "model_id": "11ef1b06f8fb4618af018299c756035b",
       "version_major": 2,
       "version_minor": 0
      },
      "text/plain": [
       "Output()"
      ]
     },
     "metadata": {},
     "output_type": "display_data"
    },
    {
     "data": {
      "application/vnd.jupyter.widget-view+json": {
       "model_id": "11ef1b06f8fb4618af018299c756035b",
       "version_major": 2,
       "version_minor": 0
      },
      "text/plain": [
       "Output()"
      ]
     },
     "metadata": {},
     "output_type": "display_data"
    }
   ],
   "source": [
    "app = DataViewer(project_path=\"my-project\")"
   ]
  },
  {
   "cell_type": "code",
   "execution_count": null,
   "id": "0e86644b",
   "metadata": {},
   "outputs": [],
   "source": [
    "import helics\n"
   ]
  }
 ],
 "metadata": {
  "kernelspec": {
   "display_name": "pydss",
   "language": "python",
   "name": "python3"
  },
  "language_info": {
   "codemirror_mode": {
    "name": "ipython",
    "version": 3
   },
   "file_extension": ".py",
   "mimetype": "text/x-python",
   "name": "python",
   "nbconvert_exporter": "python",
   "pygments_lexer": "ipython3",
   "version": "3.9.21"
  }
 },
 "nbformat": 4,
 "nbformat_minor": 5
}
